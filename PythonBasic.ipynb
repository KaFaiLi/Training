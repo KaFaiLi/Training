{
 "cells": [
  {
   "cell_type": "markdown",
   "metadata": {
    "vscode": {
     "languageId": "raw"
    }
   },
   "source": [
    "# Python Basic Recap Exericse"
   ]
  },
  {
   "cell_type": "markdown",
   "metadata": {},
   "source": [
    "\n",
    "> ### 📘 **Exercise 1 : Compound Interest Calculation** (Numerical computations)\n",
    "> Verify the final balance of a 5-year bond investment with a fixed annual interest rate, compounded quarterly. Calculate the expected final value and compare it with the recorded amount.\n",
    ">\n",
    "> **Investment Details:**\n",
    ">\n",
    "> * **Principal Amount (P)**: \\$100,000\n",
    "> * **Annual Interest Rate (r)**: 3.8%\n",
    "> * **Compounding Frequency (n)**: Quarterly (4 times a year)\n",
    "> * **Investment Period (t)**: 5 years\n",
    ">\n",
    "> The formula for compound interest is:\n",
    ">\n",
    "> $A = P * (1 + r/n)^{(n*t)}$\n",
    ">\n",
    "> **Your Task:**\n",
    ">\n",
    "> 1. Store the principal, annual rate (remember to convert the percentage to a decimal), compounding frequency, and time in years in separate variables.\n",
    "> 2. Use the compound interest formula to calculate the future value of the investment (`A`).\n",
    "> 3. Calculate the total interest earned over the 5-year period.\n",
    "> 4. Print out the future value and total interest earned in a clear, readable format, like:\n",
    ">\n",
    ">    ```\n",
    ">    Future Value: $XXXXX.XX\n",
    ">    ```\n",
    "\n"
   ]
  },
  {
   "cell_type": "code",
   "execution_count": 11,
   "metadata": {},
   "outputs": [
    {
     "name": "stdout",
     "output_type": "stream",
     "text": [
      "Initial Principal: $100,000.00\n",
      "Annual Interest Rate: 3.8%\n",
      "Investment Period: 5 years, compounded quarterly\n",
      "---\n",
      "Calculated Future Value: $120,816.56\n",
      "Total Interest Earned: $20,816.56\n"
     ]
    }
   ],
   "source": [
    "# Solution: Verifying Compound Interest Calculation\n",
    "\n",
    "# 1. Store the investment details in variables\n",
    "principal = 100000\n",
    "# Convert percentage to a decimal for calculation\n",
    "annual_rate = 0.038\n",
    "compounding_frequency = 4  # Quarterly\n",
    "years = 5\n",
    "\n",
    "# 2. Calculate the future value using the compound interest formula\n",
    "# A = P * (1 + r/n)^(n*t)\n",
    "# The ** operator is used for exponentiation (raising to the power of)\n",
    "future_value = principal * (1 + annual_rate / compounding_frequency) ** (compounding_frequency * years)\n",
    "\n",
    "# 3. Calculate the total interest earned\n",
    "total_interest = future_value - principal\n",
    "\n",
    "# 4. Print the final results, formatted for readability\n",
    "print(f\"Initial Principal: ${principal:,.2f}\")\n",
    "print(f\"Annual Interest Rate: {annual_rate:.1%}\")\n",
    "print(f\"Investment Period: {years} years, compounded quarterly\")\n",
    "print(\"---\")\n",
    "print(f\"Calculated Future Value: ${future_value:,.2f}\")\n",
    "print(f\"Total Interest Earned: ${total_interest:,.2f}\")"
   ]
  },
  {
   "cell_type": "markdown",
   "metadata": {},
   "source": [
    ">### 💡 **Exercise 2 : Analyzing Transaction Values** (Lists)\n",
    ">\n",
    ">\n",
    ">You are given a list of outgoing transaction values (in USD) for a single day. You would need to perform a basic checking on the list .  \n",
    ">\n",
    "> ```python\n",
    "> transactions = [1500.00, 6200.50, 4999.99, 120.75, 8500.00, 345.50, 11050.00, 2500.00]\n",
    "> ```\n",
    "> Your tasks:\n",
    ">\n",
    "> 1. A new transaction of 750.25 USD just came in. Add this value to the transactions list using the `append()` method.\n",
    ">\n",
    "> 2. Calculate and print:\n",
    ">    - The **total number** of transactions of the day.\n",
    ">    - The **total value**  of transaction of the day.\n",
    ">    - The **average value** of transaction of the day.\n",
    ">\n",
    "> 3. Now repeat steps 2, but only using the **last 5 transactions** of the list.\n",
    ">    - Use slicing to extract the last 5 values from `transactions`.\n",
    "\n"
   ]
  },
  {
   "cell_type": "code",
   "execution_count": null,
   "metadata": {},
   "outputs": [],
   "source": [
    "transactions = [1500.00, 6200.50, 4999.99, 120.75, 8500.00, 345.50, 11050.00, 2500.00]\n",
    "\n",
    "print(\"Original transactions list:\", transactions)\n",
    "\n",
    "# 1. Basic List Operations:\n",
    "# Append: Add a new transaction\n",
    "new_transaction = 750.25\n",
    "transactions.append(new_transaction)\n",
    "print(f\"\\nAfter appending {new_transaction}:\", transactions)\n"
   ]
  },
  {
   "cell_type": "code",
   "execution_count": null,
   "metadata": {},
   "outputs": [],
   "source": [
    "# 2. Calculate and Print (Current Transactions):\n",
    "print(\"\\n--- Analysis of Current Transactions ---\")\n",
    "total_number_transactions = len(transactions)\n",
    "print(f\"Total number of transactions: {total_number_transactions}\")\n",
    "\n",
    "total_value_transactions = sum(transactions)\n",
    "print(f\"Total value of transactions: ${total_value_transactions:.2f}\")\n",
    "\n",
    "if total_number_transactions > 0:\n",
    "    average_value_transactions = total_value_transactions / total_number_transactions\n",
    "    print(f\"Average value of transactions: ${average_value_transactions:.2f}\")\n",
    "else:\n",
    "    print(\"Cannot calculate average: No transactions in the list.\")"
   ]
  },
  {
   "cell_type": "code",
   "execution_count": null,
   "metadata": {},
   "outputs": [],
   "source": [
    "\n",
    "# 3. Analyze Last 5 Transactions:\n",
    "print(\"\\n--- Analysis of Last 5 Transactions ---\")\n",
    "# Use slicing to extract the last 5 values\n",
    "last_5_transactions = transactions[-5:]\n",
    "print(\"Last 5 transactions:\", last_5_transactions)\n",
    "\n",
    "total_number_last_5 = len(last_5_transactions)\n",
    "print(f\"Total number of last 5 transactions: {total_number_last_5}\")\n",
    "\n",
    "total_value_last_5 = sum(last_5_transactions)\n",
    "print(f\"Total value of last 5 transactions: ${total_value_last_5:.2f}\")\n",
    "\n",
    "if total_number_last_5 > 0:\n",
    "    average_value_last_5 = total_value_last_5 / total_number_last_5\n",
    "    print(f\"Average value of last 5 transactions: ${average_value_last_5:.2f}\")\n",
    "else:\n",
    "    print(\"Cannot calculate average: Less than 5 transactions in the list to analyze.\")"
   ]
  },
  {
   "cell_type": "markdown",
   "metadata": {},
   "source": [
    "> ### 🧪 **Exercise 3: Working with Trade Summary Dictionaries** (Dictionary)\n",
    ">\n",
    "> You are given two dictionaries, each representing a summary of stock trade volumes for different tickers.\n",
    ">\n",
    "> Your task is to perform the following operations using basic dictionary methods:\n",
    "\n",
    "---\n",
    "\n",
    "### 🔧 Steps:\n",
    "\n",
    "1. **Perform dictionary operations:**\n",
    "\n",
    "   Given two dictionaries representing trades on different desk, merge them into a single dictionary.\n",
    "\n",
    "2. **Check** if the volume `0` exists as a value in `all_trades`.\n",
    "\n",
    "   * Print a message if there are any tickers with zero volume.\n",
    "\n",
    "3. **Find** the ticker (key) with the **minimum volume** and print it.\n",
    "\n",
    "---\n",
    "\n",
    "### 🧾 Example Input:\n",
    "\n",
    "```python\n",
    "   trades_desk1 = {'AAPL': 100, 'GOOG': 50, 'TSLA: '0'}\n",
    "   trades_desk2 = {'MSFT': 75, 'AAPL': 200}\n",
    "```\n"
   ]
  },
  {
   "cell_type": "code",
   "execution_count": 19,
   "metadata": {},
   "outputs": [
    {
     "name": "stdout",
     "output_type": "stream",
     "text": [
      "Trades Desk 1: {'AAPL': 100, 'GOOG': 50, 'TSLA': 0}\n",
      "Trades Desk 2: {'MSFT': 75, 'AAPL': 200}\n",
      "\n",
      "Merged all trades dictionary (all_trades): {'AAPL': 200, 'GOOG': 50, 'TSLA': 0, 'MSFT': 75}\n"
     ]
    }
   ],
   "source": [
    "# --- Example Input ---\n",
    "# Correcting the typo in 'TSLA: '0' to 'TSLA': 0\n",
    "trades_desk1 = {'AAPL': 100, 'GOOG': 50, 'TSLA': 0}\n",
    "trades_desk2 = {'MSFT': 75, 'AAPL': 200}\n",
    "\n",
    "print(\"Trades Desk 1:\", trades_desk1)\n",
    "print(\"Trades Desk 2:\", trades_desk2)\n",
    "\n",
    "# 1. Perform dictionary operations: Merge them into a single dictionary.\n",
    "# Using dictionary unpacking (**) to merge. If a key exists in both,\n",
    "# the value from the second dictionary (trades_desk2) will overwrite\n",
    "# the value from the first (trades_desk1).\n",
    "all_trades = {**trades_desk1, **trades_desk2}\n",
    "\n",
    "print(\"\\nMerged all trades dictionary (all_trades):\", all_trades)"
   ]
  },
  {
   "cell_type": "code",
   "execution_count": 20,
   "metadata": {},
   "outputs": [
    {
     "name": "stdout",
     "output_type": "stream",
     "text": [
      "\n",
      "--- Checking for Zero Volume ---\n",
      "Alert: Ticker 'TSLA' has a zero volume trade.\n"
     ]
    }
   ],
   "source": [
    "# 2. Check if the volume 0 exists as a value in all_trades.\n",
    "# Print a message if there are any tickers with zero volume.\n",
    "print(\"\\n--- Checking for Zero Volume ---\")\n",
    "zero_volume_found = False\n",
    "for ticker, volume in all_trades.items():\n",
    "    if volume == 0:\n",
    "        print(f\"Alert: Ticker '{ticker}' has a zero volume trade.\")\n",
    "        zero_volume_found = True\n",
    "\n",
    "if not zero_volume_found:\n",
    "    print(\"No tickers with zero volume found in all_trades.\")"
   ]
  },
  {
   "cell_type": "code",
   "execution_count": 22,
   "metadata": {},
   "outputs": [
    {
     "name": "stdout",
     "output_type": "stream",
     "text": [
      "\n",
      "--- Checking for stocks with zero trades ---\n",
      "Alert! At least one stock has a zero trade volume.\n"
     ]
    }
   ],
   "source": [
    "# This checks if the number 0 exists anywhere among the values in 'all_trades'.\n",
    "# It gives us True (if 0 is found) or False (if 0 is not found).\n",
    "zero_volume_exists = 0 in all_trades.values()\n",
    "\n",
    "# This is a clever trick! We make a list of two messages.\n",
    "# If 'zero_volume_exists' is False (which Python treats as 0), it picks the first message.\n",
    "# If 'zero_volume_exists' is True (which Python treats as 1), it picks the second message.\n",
    "print([\"No stocks found with zero trades.\",\n",
    "       \"Alert! At least one stock has a zero trade volume.\"][zero_volume_exists])"
   ]
  },
  {
   "cell_type": "code",
   "execution_count": 21,
   "metadata": {},
   "outputs": [
    {
     "name": "stdout",
     "output_type": "stream",
     "text": [
      "\n",
      "--- Finding Minimum Volume Ticker ---\n",
      "The ticker with the minimum volume is 'TSLA' with a volume of 0.\n"
     ]
    }
   ],
   "source": [
    "\n",
    "# 3. Find the ticker (key) with the minimum volume and print it.\n",
    "print(\"\\n--- Finding Minimum Volume Ticker ---\")\n",
    "\n",
    "if all_trades: # Ensure the dictionary is not empty before trying to find min\n",
    "    # Use the min() function with a lambda key to find the item (key-value pair)\n",
    "    # where the value (item[1]) is the smallest.\n",
    "    min_volume_ticker, min_volume = min(all_trades.items(), key=lambda item: item[1])\n",
    "    print(f\"The ticker with the minimum volume is '{min_volume_ticker}' with a volume of {min_volume}.\")\n",
    "else:\n",
    "    print(\"The 'all_trades' dictionary is empty, so no minimum volume can be determined.\")"
   ]
  },
  {
   "cell_type": "markdown",
   "metadata": {},
   "source": [
    "> ### 🧪 **Exercise 4: Transaction Flagging** (Dictionary)\n",
    ">\n",
    "> You would need to assign a risk category to a list of transactions based on their value. The risk rules are:\n",
    ">\n",
    "> * **Low Risk**: Transaction value is less than $1,000.\n",
    "> * **Medium Risk**: Transaction value is between $1,000 and $10,000 (inclusive).\n",
    "> * **High Risk**: Transaction value is greater than $10,000.\n",
    "> \n",
    "> You are given the list `transaction_values = [500, 1200, 9500, 15000, 850, 10000, 25000]`\n",
    ">\n",
    ">\n",
    ">### 🔧 Your task is to:\n",
    ">1.  Create a new empty list called `risk_categories`.\n",
    ">2.  Loop through each value in `transaction_values`.\n",
    ">3.  Inside the loop, use an `if`/`elif`/`else` structure to determine the risk category ('Low', 'Medium', or 'High').\n",
    ">4.  Append the determined risk category string to the `risk_categories` list.\n",
    ">5.  After the loop, print both the original values and the resulting risk categories. For a better report, try printing them side-by-side.\n"
   ]
  },
  {
   "cell_type": "code",
   "execution_count": 27,
   "metadata": {},
   "outputs": [
    {
     "name": "stdout",
     "output_type": "stream",
     "text": [
      "Transaction Values | Risk Category\n",
      "-------------------|---------------\n",
      "500 | Low\n",
      "1200 | Medium\n",
      "9500 | Medium\n",
      "15000 | High\n",
      "850 | Low\n",
      "10000 | Medium\n",
      "25000 | High\n"
     ]
    }
   ],
   "source": [
    "transaction_values = [500, 1200, 9500, 15000, 850, 10000, 25000]\n",
    "risk_categories = []\n",
    "\n",
    "for value in transaction_values:\n",
    "    if value < 1000:\n",
    "        risk_categories.append('Low')\n",
    "    elif 1000 <= value <= 10000:\n",
    "        risk_categories.append('Medium')\n",
    "    else:  # value > 10000\n",
    "        risk_categories.append('High')\n",
    "\n",
    "print(\"Transaction Values | Risk Category\")\n",
    "print(\"-------------------|---------------\")\n",
    "for i in range(len(transaction_values)):\n",
    "    print(f\"{transaction_values[i]} | {risk_categories[i]}\")"
   ]
  },
  {
   "cell_type": "markdown",
   "metadata": {},
   "source": [
    "## 🔐 Exercise 5: Password Strength Validator 🛡️\n",
    "\n",
    "Your company's IT department needs a function to evaluate password strength for new employee accounts. Weak passwords are a major security risk, so you need to create an automated checker.\n",
    "\n",
    "A password will be considered **\"strong\"** if it meets ALL of the following criteria:\n",
    "- At least 8 characters long\n",
    "- Contains at least one uppercase letter\n",
    "- Contains at least one lowercase letter  \n",
    "- Contains at least one digit (0-9)\n",
    "- Contains at least one special character from this set: `!@#$%^&*`\n",
    "\n",
    "-----\n",
    "\n",
    "### 📝 Your Task:\n",
    "\n",
    "* Define a function called `is_strong_password` that accepts one argument, `password`.\n",
    "\n",
    "* The function should implement the logic described above to check all five criteria.\n",
    "\n",
    "* The function should return `True` if the password meets ALL criteria, and `False` if it fails any criterion.\n",
    "\n",
    "* Add a **docstring** to explain the function's purpose, its parameter, and its return value.\n",
    "\n",
    "* Create a list of test passwords and loop through it. For each password, call your function and print a message indicating whether it passes or fails the strength test.\n",
    "\n",
    "  ```python\n",
    "  test_passwords = [\n",
    "      \"password123\",\n",
    "      \"MyP@ssw0rd\",\n",
    "      \"weak\",\n",
    "      \"STRONG123!\",\n",
    "      \"NoSpecialChar1\",\n",
    "      \"nouppercase1!\",\n",
    "      \"NOLOWERCASE1!\",\n",
    "      \"NoNumbers!\",\n",
    "      \"Secure#2024\"\n",
    "  ]\n",
    "  ```\n",
    "\n",
    "**Bonus Challenge:** Modify your function to also return a list of which specific criteria the password failed (if any), instead of just returning `True` or `False`."
   ]
  },
  {
   "cell_type": "code",
   "execution_count": 29,
   "metadata": {},
   "outputs": [
    {
     "name": "stdout",
     "output_type": "stream",
     "text": [
      "Password 'password123': Weak ❌\n",
      "  - Password must contain at least one uppercase letter.\n",
      "  - Password must contain at least one special character (!@#$%^&*).\n",
      "Password 'MyP@ssw0rd': Strong ✅\n",
      "Password 'weak': Weak ❌\n",
      "  - Password must be at least 8 characters long.\n",
      "  - Password must contain at least one uppercase letter.\n",
      "  - Password must contain at least one digit.\n",
      "  - Password must contain at least one special character (!@#$%^&*).\n",
      "Password 'STRONG123!': Weak ❌\n",
      "  - Password must contain at least one lowercase letter.\n",
      "Password 'NoSpecialChar1': Weak ❌\n",
      "  - Password must contain at least one special character (!@#$%^&*).\n",
      "Password 'nouppercase1!': Weak ❌\n",
      "  - Password must contain at least one uppercase letter.\n",
      "Password 'NOLOWERCASE1!': Weak ❌\n",
      "  - Password must contain at least one lowercase letter.\n",
      "Password 'NoNumbers!': Weak ❌\n",
      "  - Password must contain at least one digit.\n",
      "Password 'Secure#2024': Strong ✅\n"
     ]
    }
   ],
   "source": [
    "def is_strong_password(password):\n",
    "    \"\"\"\n",
    "    Check if the given password is strong based on these rules:\n",
    "    - At least 8 characters long\n",
    "    - Contains at least one uppercase letter\n",
    "    - Contains at least one lowercase letter\n",
    "    - Contains at least one digit (0-9)\n",
    "    - Contains at least one special character from !@#$%^&*\n",
    "\n",
    "    Args:\n",
    "        password (str): The password string to validate.\n",
    "\n",
    "    Returns:\n",
    "        tuple:\n",
    "          - bool: True if password is strong (meets all criteria), else False\n",
    "          - list: List of failed criteria descriptions (empty if strong)\n",
    "    \"\"\"\n",
    "    failed = []\n",
    "\n",
    "    if len(password) < 8:\n",
    "        failed.append(\"Password must be at least 8 characters long.\")\n",
    "    if not any(c.isupper() for c in password):\n",
    "        failed.append(\"Password must contain at least one uppercase letter.\")\n",
    "    if not any(c.islower() for c in password):\n",
    "        failed.append(\"Password must contain at least one lowercase letter.\")\n",
    "    if not any(c.isdigit() for c in password):\n",
    "        failed.append(\"Password must contain at least one digit.\")\n",
    "    if not any(c in \"!@#$%^&*\" for c in password):\n",
    "        failed.append(\"Password must contain at least one special character (!@#$%^&*).\")\n",
    "\n",
    "    return (len(failed) == 0, failed)\n",
    "\n",
    "\n",
    "# Test passwords\n",
    "test_passwords = [\n",
    "    \"password123\",\n",
    "    \"MyP@ssw0rd\",\n",
    "    \"weak\",\n",
    "    \"STRONG123!\",\n",
    "    \"NoSpecialChar1\",\n",
    "    \"nouppercase1!\",\n",
    "    \"NOLOWERCASE1!\",\n",
    "    \"NoNumbers!\",\n",
    "    \"Secure#2024\"\n",
    "]\n",
    "\n",
    "# Check and print results\n",
    "for pwd in test_passwords:\n",
    "    is_strong, reasons = is_strong_password(pwd)\n",
    "    if is_strong:\n",
    "        print(f\"Password '{pwd}': Strong ✅\")\n",
    "    else:\n",
    "        print(f\"Password '{pwd}': Weak ❌\")\n",
    "        for reason in reasons:\n",
    "            print(f\"  - {reason}\")\n"
   ]
  }
 ],
 "metadata": {
  "kernelspec": {
   "display_name": "base",
   "language": "python",
   "name": "python3"
  },
  "language_info": {
   "codemirror_mode": {
    "name": "ipython",
    "version": 3
   },
   "file_extension": ".py",
   "mimetype": "text/x-python",
   "name": "python",
   "nbconvert_exporter": "python",
   "pygments_lexer": "ipython3",
   "version": "3.12.9"
  }
 },
 "nbformat": 4,
 "nbformat_minor": 2
}
